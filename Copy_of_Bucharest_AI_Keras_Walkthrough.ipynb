{
  "nbformat": 4,
  "nbformat_minor": 0,
  "metadata": {
    "colab": {
      "name": "Copy of Bucharest.AI: Keras Walkthrough",
      "version": "0.3.2",
      "provenance": [],
      "collapsed_sections": [],
      "toc_visible": true,
      "include_colab_link": true
    },
    "kernelspec": {
      "name": "python3",
      "display_name": "Python 3"
    },
    "accelerator": "GPU"
  },
  "cells": [
    {
      "cell_type": "markdown",
      "metadata": {
        "id": "view-in-github",
        "colab_type": "text"
      },
      "source": [
        "<a href=\"https://colab.research.google.com/github/anecula/AWS-CostEstimation-Python/blob/master/Copy_of_Bucharest_AI_Keras_Walkthrough.ipynb\" target=\"_parent\"><img src=\"https://colab.research.google.com/assets/colab-badge.svg\" alt=\"Open In Colab\"/></a>"
      ]
    },
    {
      "metadata": {
        "id": "Bg2kTCXeqFzG",
        "colab_type": "text"
      },
      "cell_type": "markdown",
      "source": [
        "Keras is one of the official frontends for using Tensorflow. It is easy to use, yet powerful enough to express also complicated use cases."
      ]
    },
    {
      "metadata": {
        "id": "gaopIuBgfZc3",
        "colab_type": "code",
        "outputId": "0a3ea227-6884-4019-cd9c-5bba36d4eec2",
        "colab": {
          "base_uri": "https://localhost:8080/",
          "height": 156
        }
      },
      "cell_type": "code",
      "source": [
        "!pip uninstall keras -y\n",
        "!pip uninstall tensorflow -y\n",
        "!pip install keras==2.2.2 -q\n",
        "!pip install tensorflow==1.11.0 -q\n",
        "!pip install tensorflowjs -q"
      ],
      "execution_count": 0,
      "outputs": [
        {
          "output_type": "stream",
          "text": [
            "Uninstalling Keras-2.1.6:\n",
            "  Successfully uninstalled Keras-2.1.6\n",
            "Uninstalling tensorflow-1.12.0rc1:\n",
            "  Successfully uninstalled tensorflow-1.12.0rc1\n",
            "\u001b[31mkeras 2.2.2 has requirement keras-applications==1.0.4, but you'll have keras-applications 1.0.6 which is incompatible.\u001b[0m\n",
            "\u001b[31mkeras 2.2.2 has requirement keras-preprocessing==1.0.2, but you'll have keras-preprocessing 1.0.5 which is incompatible.\u001b[0m\n",
            "\u001b[31mkeras 2.2.2 has requirement keras-applications==1.0.4, but you'll have keras-applications 1.0.6 which is incompatible.\u001b[0m\n",
            "\u001b[31mkeras 2.2.2 has requirement keras-preprocessing==1.0.2, but you'll have keras-preprocessing 1.0.5 which is incompatible.\u001b[0m\n"
          ],
          "name": "stdout"
        }
      ]
    },
    {
      "metadata": {
        "id": "m747trVhnPJd",
        "colab_type": "code",
        "outputId": "92de223d-86db-42e3-da3d-7f09d98ab7d1",
        "colab": {
          "base_uri": "https://localhost:8080/",
          "height": 52
        }
      },
      "cell_type": "code",
      "source": [
        "import keras\n",
        "print(keras.__version__)"
      ],
      "execution_count": 0,
      "outputs": [
        {
          "output_type": "stream",
          "text": [
            "Using TensorFlow backend.\n"
          ],
          "name": "stderr"
        },
        {
          "output_type": "stream",
          "text": [
            "2.2.2\n"
          ],
          "name": "stdout"
        }
      ]
    },
    {
      "metadata": {
        "id": "VI0NWQfvnPJi",
        "colab_type": "text"
      },
      "cell_type": "markdown",
      "source": [
        "# A first look at a creating models using Keras\n",
        "\n",
        "The problem we are trying to solve here is to classify grayscale images of handwritten digits (28 pixels by 28 pixels), into their 10 \n",
        "categories (0 to 9). The dataset we will use is the MNIST dataset, a classic dataset in the machine learning community, which has been \n",
        "around for almost as long as the field itself and has been very intensively studied. It's a set of 60,000 training images, plus 10,000 test \n",
        "images, assembled by the National Institute of Standards and Technology (the NIST in MNIST) in the 1980s. You can think of \"solving\" MNIST \n",
        "as the \"Hello World\" of deep learning -- it's what you do to verify that your algorithms are working as expected. As you become a machine \n",
        "learning practitioner, you will see MNIST come up over and over again, in scientific papers, blog posts, and so on."
      ]
    },
    {
      "metadata": {
        "id": "A9waOeyanPJk",
        "colab_type": "text"
      },
      "cell_type": "markdown",
      "source": [
        "The MNIST dataset comes pre-loaded in Keras, in the form of a set of four Numpy arrays:"
      ]
    },
    {
      "metadata": {
        "id": "z-RfU_A_nPJl",
        "colab_type": "code",
        "outputId": "24c3043e-6e12-4b11-b5cf-4688ace54c93",
        "colab": {
          "base_uri": "https://localhost:8080/",
          "height": 52
        }
      },
      "cell_type": "code",
      "source": [
        "from keras.datasets import mnist\n",
        "\n",
        "(train_images, train_labels), (test_images, test_labels) = mnist.load_data()"
      ],
      "execution_count": 0,
      "outputs": [
        {
          "output_type": "stream",
          "text": [
            "Downloading data from https://s3.amazonaws.com/img-datasets/mnist.npz\n",
            "11493376/11490434 [==============================] - 0s 0us/step\n"
          ],
          "name": "stdout"
        }
      ]
    },
    {
      "metadata": {
        "id": "zriJdEAbnPJo",
        "colab_type": "text"
      },
      "cell_type": "markdown",
      "source": [
        "`train_images` and `train_labels` form the \"training set\", the data that the model will learn from. The model will then be tested on the \n",
        "\"test set\", `test_images` and `test_labels`. Our images are encoded as Numpy arrays, and the labels are simply an array of digits, ranging \n",
        "from 0 to 9. There is a one-to-one correspondence between the images and the labels.\n",
        "\n",
        "Let's have a look at the training data:"
      ]
    },
    {
      "metadata": {
        "id": "99bbZ0sinPJp",
        "colab_type": "code",
        "outputId": "cdddabf1-7992-45eb-bc45-68f1d7115d9f",
        "colab": {
          "base_uri": "https://localhost:8080/",
          "height": 34
        }
      },
      "cell_type": "code",
      "source": [
        "train_images.shape"
      ],
      "execution_count": 0,
      "outputs": [
        {
          "output_type": "execute_result",
          "data": {
            "text/plain": [
              "(60000, 28, 28)"
            ]
          },
          "metadata": {
            "tags": []
          },
          "execution_count": 4
        }
      ]
    },
    {
      "metadata": {
        "id": "RIvoYZcdnPJt",
        "colab_type": "code",
        "outputId": "beb5d311-c770-474c-c66f-4a2f9c3e177e",
        "colab": {
          "base_uri": "https://localhost:8080/",
          "height": 34
        }
      },
      "cell_type": "code",
      "source": [
        "len(train_labels)"
      ],
      "execution_count": 0,
      "outputs": [
        {
          "output_type": "execute_result",
          "data": {
            "text/plain": [
              "60000"
            ]
          },
          "metadata": {
            "tags": []
          },
          "execution_count": 5
        }
      ]
    },
    {
      "metadata": {
        "id": "OupwqlohnPJy",
        "colab_type": "code",
        "outputId": "bb69edc3-98b8-4774-ea12-d895e9cbbe9e",
        "colab": {
          "base_uri": "https://localhost:8080/",
          "height": 34
        }
      },
      "cell_type": "code",
      "source": [
        "train_labels"
      ],
      "execution_count": 0,
      "outputs": [
        {
          "output_type": "execute_result",
          "data": {
            "text/plain": [
              "array([5, 0, 4, ..., 5, 6, 8], dtype=uint8)"
            ]
          },
          "metadata": {
            "tags": []
          },
          "execution_count": 6
        }
      ]
    },
    {
      "metadata": {
        "id": "oUl_w5I8nPJ2",
        "colab_type": "text"
      },
      "cell_type": "markdown",
      "source": [
        "Let's have a look at the training labels:"
      ]
    },
    {
      "metadata": {
        "id": "20Kr9r_Eqat-",
        "colab_type": "text"
      },
      "cell_type": "markdown",
      "source": [
        "How are the labels distributed in the test set ?"
      ]
    },
    {
      "metadata": {
        "id": "QSahYeBqnPKA",
        "colab_type": "code",
        "outputId": "f229be62-9f8b-4b1e-96b9-da6962745af3",
        "colab": {
          "base_uri": "https://localhost:8080/",
          "height": 365
        }
      },
      "cell_type": "code",
      "source": [
        "import numpy as np\n",
        "from matplotlib import pyplot as plt\n",
        "\n",
        "plt.bar(x = range(10), height = np.bincount(train_labels))"
      ],
      "execution_count": 0,
      "outputs": [
        {
          "output_type": "execute_result",
          "data": {
            "text/plain": [
              "<Container object of 10 artists>"
            ]
          },
          "metadata": {
            "tags": []
          },
          "execution_count": 7
        },
        {
          "output_type": "display_data",
          "data": {
            "image/png": "[encoded data removed]",
            "text/plain": [
              "<matplotlib.figure.Figure at 0x7f23350652e8>"
            ]
          },
          "metadata": {
            "tags": []
          }
        }
      ]
    },
    {
      "metadata": {
        "id": "Gst930dD98e2",
        "colab_type": "code",
        "outputId": "4981cecf-2285-49b8-e213-07627bbf1810",
        "colab": {
          "base_uri": "https://localhost:8080/",
          "height": 430
        }
      },
      "cell_type": "code",
      "source": [
        "import matplotlib.pyplot as plt\n",
        "\n",
        "%matplotlib inline\n",
        "\n",
        "fig = plt.figure(figsize=(15, 8))\n",
        "fig.subplots_adjust(hspace=0.4, wspace=0.4)\n",
        "for label in range(10):\n",
        "  ax = fig.add_subplot(2, 5, label+1)\n",
        "  pos = [x for x in range(len(train_labels)) if train_labels[x] == label][0]\n",
        "  X = train_images[pos]\n",
        "  X = X.reshape([28, 28])\n",
        "  plt.gray()\n",
        "  plt.imshow(X)"
      ],
      "execution_count": 0,
      "outputs": [
        {
          "output_type": "display_data",
          "data": {
            "image/png": "[encoded data removed]",
            "text/plain": [
              "<matplotlib.figure.Figure at 0x7f23350656a0>"
            ]
          },
          "metadata": {
            "tags": []
          }
        }
      ]
    },
    {
      "metadata": {
        "id": "BppxtQ07nPJ4",
        "colab_type": "code",
        "outputId": "3456c6c1-3d08-44d8-c979-a1ee71faa966",
        "colab": {
          "base_uri": "https://localhost:8080/",
          "height": 34
        }
      },
      "cell_type": "code",
      "source": [
        "test_images.shape"
      ],
      "execution_count": 0,
      "outputs": [
        {
          "output_type": "execute_result",
          "data": {
            "text/plain": [
              "(10000, 28, 28)"
            ]
          },
          "metadata": {
            "tags": []
          },
          "execution_count": 9
        }
      ]
    },
    {
      "metadata": {
        "id": "Ba4klu0vnPJ8",
        "colab_type": "code",
        "outputId": "1666193c-f465-4cc6-c647-b3f5a845b4eb",
        "colab": {
          "base_uri": "https://localhost:8080/",
          "height": 34
        }
      },
      "cell_type": "code",
      "source": [
        "len(test_labels)"
      ],
      "execution_count": 0,
      "outputs": [
        {
          "output_type": "execute_result",
          "data": {
            "text/plain": [
              "10000"
            ]
          },
          "metadata": {
            "tags": []
          },
          "execution_count": 10
        }
      ]
    },
    {
      "metadata": {
        "id": "enPitc0InPKL",
        "colab_type": "text"
      },
      "cell_type": "markdown",
      "source": [
        "\n",
        "Before training, we will preprocess our data by reshaping it into the shape that the network expects, and scaling it so that all values are in  the `[0, 1]` interval. "
      ]
    },
    {
      "metadata": {
        "id": "y88qDLTqnPKM",
        "colab_type": "code",
        "colab": {}
      },
      "cell_type": "code",
      "source": [
        "train_images = train_images.astype('float32') / 255\n",
        "test_images = test_images.astype('float32') / 255"
      ],
      "execution_count": 0,
      "outputs": []
    },
    {
      "metadata": {
        "id": "zvC-MBgCnPKD",
        "colab_type": "text"
      },
      "cell_type": "markdown",
      "source": [
        "Our workflow will be as follow: first we will present our neural network with the training data, `train_images` and `train_labels`. The \n",
        "network will then learn to associate images and labels. Finally, we will ask the network to produce predictions for `test_images`, and we \n",
        "will verify if these predictions match the labels from `test_labels`.\n",
        "\n",
        "Let's build our network -- again, remember that you aren't supposed to understand everything about this example just yet."
      ]
    },
    {
      "metadata": {
        "id": "VpAOlk6unPKF",
        "colab_type": "code",
        "colab": {}
      },
      "cell_type": "code",
      "source": [
        "from keras import models\n",
        "from keras import layers\n",
        "\n",
        "network = models.Sequential()\n",
        "network.add(layers.Flatten(input_shape=(28, 28)))\n",
        "network.add(layers.Dense(10, activation='softmax'))"
      ],
      "execution_count": 0,
      "outputs": []
    },
    {
      "metadata": {
        "id": "-kJLVuiCnPKI",
        "colab_type": "text"
      },
      "cell_type": "markdown",
      "source": [
        "Here our network consists of a sequence of  `Dense` layers, which are densely-connected (also called \"fully-connected\") neural layers. \n",
        "The second (and last) layer is a 10-way \"softmax\" layer, which means it will return an array of 10 probability scores (summing to 1). Each \n",
        "score will be the probability that the current digit image belongs to one of our 10 digit classes.\n",
        "\n",
        "To make our network ready for training, we need to pick three more things, as part of \"compilation\" step:\n",
        "\n",
        "* A loss function: the is how the network will be able to measure how good a job it is doing on its training data, and thus how it will be \n",
        "able to steer itself in the right direction.\n",
        "* An optimizer: this is the mechanism through which the network will update itself based on the data it sees and its loss function.\n",
        "* Metrics to monitor during training and testing. Here we will only care about accuracy (the fraction of the images that were correctly \n",
        "classified).\n",
        "\n",
        "The exact purpose of the loss function and the optimizer will be made clear throughout the next two chapters."
      ]
    },
    {
      "metadata": {
        "id": "4qB706q2nPKI",
        "colab_type": "code",
        "colab": {}
      },
      "cell_type": "code",
      "source": [
        "network.compile(optimizer='rmsprop',\n",
        "                loss='sparse_categorical_crossentropy',\n",
        "                metrics=['accuracy'])"
      ],
      "execution_count": 0,
      "outputs": []
    },
    {
      "metadata": {
        "id": "gcaeQnqqps69",
        "colab_type": "code",
        "outputId": "d3eb3653-cf79-45d3-e641-9de08b6abdc9",
        "colab": {
          "base_uri": "https://localhost:8080/",
          "height": 208
        }
      },
      "cell_type": "code",
      "source": [
        "network.summary()"
      ],
      "execution_count": 0,
      "outputs": [
        {
          "output_type": "stream",
          "text": [
            "_________________________________________________________________\n",
            "Layer (type)                 Output Shape              Param #   \n",
            "=================================================================\n",
            "flatten_1 (Flatten)          (None, 784)               0         \n",
            "_________________________________________________________________\n",
            "dense_1 (Dense)              (None, 10)                7850      \n",
            "=================================================================\n",
            "Total params: 7,850\n",
            "Trainable params: 7,850\n",
            "Non-trainable params: 0\n",
            "_________________________________________________________________\n"
          ],
          "name": "stdout"
        }
      ]
    },
    {
      "metadata": {
        "id": "kPoxaZtgnPKU",
        "colab_type": "text"
      },
      "cell_type": "markdown",
      "source": [
        "We are now ready to train our network, which in Keras is done via a call to the `fit` method of the network: \n",
        "we \"fit\" the model to its training data."
      ]
    },
    {
      "metadata": {
        "id": "KxfwBjmxnPKU",
        "colab_type": "code",
        "outputId": "22e58e94-3a22-4086-f683-14ec92835565",
        "colab": {
          "base_uri": "https://localhost:8080/",
          "height": 139
        }
      },
      "cell_type": "code",
      "source": [
        "network.fit(train_images, train_labels, epochs=3, batch_size=16)"
      ],
      "execution_count": 0,
      "outputs": [
        {
          "output_type": "stream",
          "text": [
            "Epoch 1/3\n",
            "60000/60000 [==============================] - 4s 70us/step - loss: 0.9470 - acc: 0.8248\n",
            "Epoch 2/3\n",
            "60000/60000 [==============================] - 4s 68us/step - loss: 0.8702 - acc: 0.8331\n",
            "Epoch 3/3\n",
            "60000/60000 [==============================] - 4s 68us/step - loss: 0.8079 - acc: 0.8398\n"
          ],
          "name": "stdout"
        },
        {
          "output_type": "execute_result",
          "data": {
            "text/plain": [
              "<keras.callbacks.History at 0x7f2302777908>"
            ]
          },
          "metadata": {
            "tags": []
          },
          "execution_count": 21
        }
      ]
    },
    {
      "metadata": {
        "id": "eFxm-cROnPKb",
        "colab_type": "text"
      },
      "cell_type": "markdown",
      "source": [
        "Two quantities are being displayed during training: the \"loss\" of the network over the training data, and the accuracy of the network over \n",
        "the training data.\n",
        "\n",
        "We quickly reach an accuracy of about 0.92 (i.e. 92%) on the training data. Now let's check that our model performs well on the test set too:"
      ]
    },
    {
      "metadata": {
        "id": "mZC_w5amnPKb",
        "colab_type": "code",
        "outputId": "5e2798d8-dd03-4d60-8148-6fe8aace0f8c",
        "colab": {
          "base_uri": "https://localhost:8080/",
          "height": 52
        }
      },
      "cell_type": "code",
      "source": [
        "test_loss, test_acc = network.evaluate(test_images, test_labels)\n",
        "\n",
        "print('test_acc:', test_acc)"
      ],
      "execution_count": 0,
      "outputs": [
        {
          "output_type": "stream",
          "text": [
            "10000/10000 [==============================] - 0s 25us/step\n",
            "test_acc: 0.8536\n"
          ],
          "name": "stdout"
        }
      ]
    },
    {
      "metadata": {
        "id": "y-kC97vQnPKh",
        "colab_type": "text"
      },
      "cell_type": "markdown",
      "source": [
        "\n",
        "Our test set accuracy turns out to be 92% -- that's almost the same as the training set accuracy. \n",
        "If there would be a gap between training accuracy and test accuracy, we would speak of \"overfitting\", \n",
        "the fact that machine learning models tend to perform worse on new data than on their training data. \n",
        "\n",
        "\n",
        "This concludes our very first example -- you just saw how we could build and a train a neural network to classify handwritten digits, in  less than 20 lines of Python code. \n",
        "\n",
        "Let's add more layers to the network and fit the model again.\n"
      ]
    },
    {
      "metadata": {
        "id": "ojLOQMh1rTUy",
        "colab_type": "code",
        "outputId": "b71051d0-e829-475b-d49d-780519c850a4",
        "colab": {
          "base_uri": "https://localhost:8080/",
          "height": 225
        }
      },
      "cell_type": "code",
      "source": [
        "network = models.Sequential()\n",
        "network.add(layers.Flatten(input_shape=(28, 28)))\n",
        "network.add(layers.Dense(256, activation='relu'))\n",
        "network.add(layers.Dense(10, activation='softmax'))\n",
        "\n",
        "network.compile(optimizer='rmsprop',\n",
        "                loss='sparse_categorical_crossentropy',\n",
        "                metrics=['accuracy'])\n",
        "\n",
        "network.fit(train_images, train_labels, epochs=5, batch_size=16)\n",
        "\n",
        "test_loss, test_acc = network.evaluate(test_images, test_labels)\n",
        "\n",
        "print('test_acc:', test_acc)"
      ],
      "execution_count": 0,
      "outputs": [
        {
          "output_type": "stream",
          "text": [
            "Epoch 1/5\n",
            "60000/60000 [==============================] - 18s 303us/step - loss: 0.8780 - acc: 0.7905\n",
            "Epoch 2/5\n",
            "60000/60000 [==============================] - 18s 306us/step - loss: 0.3701 - acc: 0.8960\n",
            "Epoch 3/5\n",
            "60000/60000 [==============================] - 18s 299us/step - loss: 0.3199 - acc: 0.9077\n",
            "Epoch 4/5\n",
            "60000/60000 [==============================] - 18s 301us/step - loss: 0.2952 - acc: 0.9151\n",
            "Epoch 5/5\n",
            "60000/60000 [==============================] - 18s 294us/step - loss: 0.2788 - acc: 0.9197\n",
            "10000/10000 [==============================] - 1s 65us/step\n",
            "test_acc: 0.9258\n"
          ],
          "name": "stdout"
        }
      ]
    },
    {
      "metadata": {
        "id": "iMRD36bGoh37",
        "colab_type": "code",
        "colab": {}
      },
      "cell_type": "code",
      "source": [
        ""
      ],
      "execution_count": 0,
      "outputs": []
    },
    {
      "metadata": {
        "id": "RQrDSGRzyXPl",
        "colab_type": "code",
        "outputId": "ddaa15c2-8a21-4385-fcf5-e3d49f0419cf",
        "colab": {
          "base_uri": "https://localhost:8080/",
          "height": 225
        }
      },
      "cell_type": "code",
      "source": [
        "network = models.Sequential()\n",
        "  \n",
        "network.add(layers.Flatten(input_shape=(28, 28)))\n",
        "network.add(layers.Dense(256, activation='relu'))\n",
        "network.add(layers.Dense(10, activation='softmax'))\n",
        "\n",
        "network.compile(optimizer='rmsprop',\n",
        "                loss='sparse_categorical_crossentropy',\n",
        "                metrics=['accuracy'])\n",
        "\n",
        "network.fit(train_images, train_labels, epochs=5, batch_size=16)\n",
        "\n",
        "test_loss, test_acc = network.evaluate(test_images, test_labels)\n",
        "\n",
        "print('test_acc:', test_acc)"
      ],
      "execution_count": 0,
      "outputs": [
        {
          "output_type": "stream",
          "text": [
            "Epoch 1/5\n",
            "60000/60000 [==============================] - 18s 308us/step - loss: 0.8737 - acc: 0.7829\n",
            "Epoch 2/5\n",
            "60000/60000 [==============================] - 21s 350us/step - loss: 0.3691 - acc: 0.8960\n",
            "Epoch 3/5\n",
            "60000/60000 [==============================] - 20s 334us/step - loss: 0.3200 - acc: 0.9079\n",
            "Epoch 4/5\n",
            "60000/60000 [==============================] - 20s 327us/step - loss: 0.2974 - acc: 0.9143\n",
            "Epoch 5/5\n",
            "60000/60000 [==============================] - 19s 310us/step - loss: 0.2821 - acc: 0.9185\n",
            "10000/10000 [==============================] - 1s 67us/step\n",
            "test_acc: 0.9232\n"
          ],
          "name": "stdout"
        }
      ]
    },
    {
      "metadata": {
        "id": "J4wK9hGx4d_6",
        "colab_type": "text"
      },
      "cell_type": "markdown",
      "source": [
        "TASKs: \n",
        "\n",
        "- Please look at the output of the training if this model and tell me if there is overfitting ? \n",
        "- We could add a dropout between the two layers (layers.Dropout(0.2)). Is there still overfitting after we added dropout ? Please report the test accuracy.\n",
        "\n",
        "\n"
      ]
    },
    {
      "metadata": {
        "id": "NTimkBl988LT",
        "colab_type": "text"
      },
      "cell_type": "markdown",
      "source": [
        "**Next we build a convolutional network**"
      ]
    },
    {
      "metadata": {
        "id": "kaZ3c1Yj0iZW",
        "colab_type": "code",
        "outputId": "145ffc76-7427-48b7-f42f-b3d9ac83a203",
        "colab": {
          "base_uri": "https://localhost:8080/",
          "height": 86
        }
      },
      "cell_type": "code",
      "source": [
        "img_rows, img_cols = (28, 28)\n",
        "\n",
        "x_train = train_images.reshape(train_images.shape[0], img_rows, img_cols, 1)\n",
        "x_test = test_images.reshape(test_images.shape[0], img_rows, img_cols, 1)\n",
        "\n",
        "network = models.Sequential([\n",
        "  layers.Conv2D(32, kernel_size=(4, 4), input_shape=(28, 28, 1), activation='relu', padding = 'same'),\n",
        "  layers.MaxPooling2D(pool_size=(2, 2)),\n",
        "  layers.Flatten(),\n",
        "  layers.Dense(128, activation='relu'),\n",
        "  layers.Dense(10, activation='softmax')\n",
        "])   \n",
        "\n",
        "network.compile(optimizer='adam',\n",
        "                loss='sparse_categorical_crossentropy',\n",
        "                metrics=['accuracy'])\n",
        "\n",
        "network.fit(x_train, train_labels, epochs=1, batch_size=16)\n",
        "\n",
        "test_loss, test_acc = network.evaluate(x_test, test_labels)\n",
        "\n",
        "print('test_acc:', test_acc)\n",
        "  \n"
      ],
      "execution_count": 0,
      "outputs": [
        {
          "output_type": "stream",
          "text": [
            "Epoch 1/1\n",
            "60000/60000 [==============================] - 134s 2ms/step - loss: 0.5386 - acc: 0.8409\n",
            "10000/10000 [==============================] - 5s 496us/step\n",
            "test_acc: 0.9154\n"
          ],
          "name": "stdout"
        }
      ]
    },
    {
      "metadata": {
        "id": "a__vTRiTemGQ",
        "colab_type": "text"
      },
      "cell_type": "markdown",
      "source": [
        "Now we want to save & convert our model so it can be hosted using javascript."
      ]
    },
    {
      "metadata": {
        "id": "NTWMIij1c-c9",
        "colab_type": "code",
        "colab": {}
      },
      "cell_type": "code",
      "source": [
        "network.save('network.h5py')"
      ],
      "execution_count": 0,
      "outputs": []
    },
    {
      "metadata": {
        "id": "dzidfb5tdOba",
        "colab_type": "code",
        "outputId": "80814750-105f-4d18-9272-a73ae934e6b4",
        "colab": {
          "base_uri": "https://localhost:8080/",
          "height": 34
        }
      },
      "cell_type": "code",
      "source": [
        "!ls -lah | grep network\n",
        "!rm -rf tfjsmodel\n",
        "!mkdir tfjsmodel"
      ],
      "execution_count": 0,
      "outputs": [
        {
          "output_type": "stream",
          "text": [
            "-rw-r--r-- 1 root root 9.3M Oct 27 08:18 network.h5py\n"
          ],
          "name": "stdout"
        }
      ]
    },
    {
      "metadata": {
        "id": "xXnhohyFdm9I",
        "colab_type": "code",
        "colab": {}
      },
      "cell_type": "code",
      "source": [
        "import tensorflowjs as tfjs\n",
        "tfjs.converters.save_keras_model(network, './tfjsmodel')"
      ],
      "execution_count": 0,
      "outputs": []
    },
    {
      "metadata": {
        "id": "tiPloHYRm-Ju",
        "colab_type": "code",
        "outputId": "77655956-eb11-480b-9906-3ca313c3aab5",
        "colab": {
          "base_uri": "https://localhost:8080/",
          "height": 104
        }
      },
      "cell_type": "code",
      "source": [
        "!ls -lah ./tfjsmodel"
      ],
      "execution_count": 0,
      "outputs": [
        {
          "output_type": "stream",
          "text": [
            "total 3.1M\n",
            "drwxr-xr-x 2 root root 4.0K Oct 27 08:19 .\n",
            "drwxr-xr-x 1 root root 4.0K Oct 27 08:19 ..\n",
            "-rw-r--r-- 1 root root 3.1M Oct 27 08:19 group1-shard1of1\n",
            "-rw-r--r-- 1 root root 2.8K Oct 27 08:19 model.json\n"
          ],
          "name": "stdout"
        }
      ]
    },
    {
      "metadata": {
        "id": "lD1cMTxO9FE2",
        "colab_type": "text"
      },
      "cell_type": "markdown",
      "source": [
        "**TASK: Find and display misclassified examples in the test set.**"
      ]
    },
    {
      "metadata": {
        "id": "OttQiM0o_kFx",
        "colab_type": "text"
      },
      "cell_type": "markdown",
      "source": [
        "**TASKS:**\n",
        "- **Repeat all steps from before for the fashion mnist dataset.**\n",
        "- **Add layers and dropout.**\n",
        "- **Report best test accuracy you can achieve.**"
      ]
    },
    {
      "metadata": {
        "id": "AkwV6rxXn_-_",
        "colab_type": "code",
        "outputId": "bf8be11a-c9d2-4f55-b34c-7c0d6f85a0bd",
        "colab": {
          "base_uri": "https://localhost:8080/",
          "height": 156
        }
      },
      "cell_type": "code",
      "source": [
        "from keras.datasets import fashion_mnist\n",
        "\n",
        "(train_images, train_labels), (test_images, test_labels) = fashion_mnist.load_data()"
      ],
      "execution_count": 0,
      "outputs": [
        {
          "output_type": "stream",
          "text": [
            "Downloading data from http://fashion-mnist.s3-website.eu-central-1.amazonaws.com/train-labels-idx1-ubyte.gz\n",
            "32768/29515 [=================================] - 0s 3us/step\n",
            "Downloading data from http://fashion-mnist.s3-website.eu-central-1.amazonaws.com/train-images-idx3-ubyte.gz\n",
            "26427392/26421880 [==============================] - 9s 0us/step\n",
            "Downloading data from http://fashion-mnist.s3-website.eu-central-1.amazonaws.com/t10k-labels-idx1-ubyte.gz\n",
            "8192/5148 [===============================================] - 0s 0us/step\n",
            "Downloading data from http://fashion-mnist.s3-website.eu-central-1.amazonaws.com/t10k-images-idx3-ubyte.gz\n",
            "4423680/4422102 [==============================] - 4s 1us/step\n"
          ],
          "name": "stdout"
        }
      ]
    },
    {
      "metadata": {
        "id": "qjrNheNKnhA9",
        "colab_type": "text"
      },
      "cell_type": "markdown",
      "source": [
        "**TASK:**\n",
        "\n",
        "\n",
        "*   **Download files stored in tfjsmodel directory**\n",
        "*   **Create a script/website that consumes model in javascript**\n",
        "\n",
        "**Bunch of links that should be usefull**\n",
        "\n",
        "* https://js.tensorflow.org/\n",
        "* https://github.com/tensorflow/tfjs-converter\n",
        "* https://github.com/tensorflow/tfjs-examples\n",
        "* https://js.tensorflow.org/tutorials/mnist.html\n",
        "\n"
      ]
    },
    {
      "metadata": {
        "id": "NXIm0jTHBRLb",
        "colab_type": "code",
        "colab": {}
      },
      "cell_type": "code",
      "source": [
        ""
      ],
      "execution_count": 0,
      "outputs": []
    },
    {
      "metadata": {
        "id": "Srunt5qeBbwM",
        "colab_type": "code",
        "colab": {}
      },
      "cell_type": "code",
      "source": [
        ""
      ],
      "execution_count": 0,
      "outputs": []
    }
  ]
}